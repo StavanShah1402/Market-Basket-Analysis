{
  "cells": [
    {
      "cell_type": "code",
      "execution_count": null,
      "metadata": {
        "id": "QsMjtdkK3Uk_"
      },
      "outputs": [],
      "source": [
        "import numpy as np\n",
        "import pandas as pd\n",
        "from email.mime.multipart import MIMEMultipart\n",
        "from email.mime.text import MIMEText\n",
        "from email.mime.image import MIMEImage\n",
        "import smtplib "
      ]
    },
    {
      "cell_type": "markdown",
      "metadata": {
        "id": "S30RNXPU4ZEE"
      },
      "source": [
        "# New Section"
      ]
    },
    {
      "cell_type": "markdown",
      "metadata": {
        "id": "-hzmFAwq3Ula"
      },
      "source": [
        "Now, youll need the data as a csv. Take you part of data, save it as **ifcomp.csv** and upload it to the Jupyter Notebook\n",
        "> Again, check that all entries have emials"
      ]
    },
    {
      "cell_type": "code",
      "execution_count": null,
      "metadata": {
        "id": "XT8gBsP_3Uld"
      },
      "outputs": [],
      "source": [
        "df = pd.read_csv('ifcomp.csv')"
      ]
    },
    {
      "cell_type": "code",
      "execution_count": null,
      "metadata": {
        "colab": {
          "base_uri": "https://localhost:8080/"
        },
        "id": "Qrmak8mK3Ule",
        "outputId": "5b2f457c-614f-4ceb-b0cd-bc6b99b6bfb8"
      },
      "outputs": [
        {
          "name": "stdout",
          "output_type": "stream",
          "text": [
            "<class 'pandas.core.frame.DataFrame'>\n",
            "RangeIndex: 1 entries, 0 to 0\n",
            "Data columns (total 2 columns):\n",
            " #   Column  Non-Null Count  Dtype \n",
            "---  ------  --------------  ----- \n",
            " 0   name    1 non-null      object\n",
            " 1   email   1 non-null      object\n",
            "dtypes: object(2)\n",
            "memory usage: 144.0+ bytes\n"
          ]
        }
      ],
      "source": [
        "df.info()"
      ]
    },
    {
      "cell_type": "code",
      "execution_count": null,
      "metadata": {
        "id": "zYUCQ16L3Ulj"
      },
      "outputs": [],
      "source": [
        "df.fillna('--',inplace=True)"
      ]
    },
    {
      "cell_type": "code",
      "execution_count": null,
      "metadata": {
        "colab": {
          "base_uri": "https://localhost:8080/"
        },
        "id": "q3YDSk5h3Ull",
        "outputId": "bc6ee59e-1b8f-48dc-807e-bb8c0c786a8a"
      },
      "outputs": [
        {
          "name": "stdout",
          "output_type": "stream",
          "text": [
            "Checking lengths: 1names----1mail ids\n"
          ]
        }
      ],
      "source": [
        "name = [] #re run this before sending the actual mails (youll understand later)\n",
        "mail = []\n",
        "for i in range(len(df)):\n",
        "    if df['email'][i]!='--':\n",
        "        name.append(df['name'][i])\n",
        "        mail.append(df['email'][i])\n",
        "print(\"Checking lengths: {}names----{}mail ids\".format(len(name),len(mail)))"
      ]
    },
    {
      "cell_type": "markdown",
      "metadata": {
        "id": "NMZbeRRM3Uln"
      },
      "source": [
        "CHECK THAT THIS MATCHES THE NO. OF EMAIL ENTRIES AS SEEN IN THE INFO FUNCTION"
      ]
    },
    {
      "cell_type": "markdown",
      "metadata": {
        "id": "lyc8deXZ3Ulo"
      },
      "source": [
        "Also, please take care that you have turned 'less scure apps on' in your google settings. [Turn it on here](https://myaccount.google.com/lesssecureapps)\n"
      ]
    },
    {
      "cell_type": "markdown",
      "metadata": {
        "id": "88oGKQGf3Ulp"
      },
      "source": [
        "The following is the mail function. Make the changes below, **do not mess it up**:\n",
        ">Your email id\n",
        ">\n",
        ">Your password\n",
        ">\n",
        ">Your phone number\n",
        ">\n",
        ">Your name and designation at the end "
      ]
    },
    {
      "cell_type": "code",
      "execution_count": null,
      "metadata": {
        "id": "_OrgiLyD3Ulr"
      },
      "outputs": [],
      "source": [
        "def sendmail_if(receiver, c_name):\n",
        "    msg = MIMEMultipart()\n",
        "    msg['From'] = \"junaidgirkar@gmail.com\" #enter YOUR EMAIL ADDRESS\n",
        "    password= \"ApnaDaaloYaha\" #enter YOUR APP PASSWORD\n",
        "    msg['To']= receiver\n",
        "    msg['Subject'] = 'Invitation to the Internship Fair'\n",
        "\n",
        "    # Put your phone number, Name and Position. All three items are near the end\n",
        "\n",
        "    msg.attach(MIMEText(f\"\"\"You have been given discount of 15%\"\"\", 'html'))\n",
        "\n",
        " ##\n",
        "    s = smtplib.SMTP('smtp.gmail.com', 587)\n",
        "    s.starttls()\n",
        "    s.login(msg['From'], password)\n",
        "    s.sendmail(msg['From'],msg['To'],msg.as_string())\n",
        "    s.quit()"
      ]
    },
    {
      "cell_type": "code",
      "execution_count": null,
      "metadata": {
        "id": "w5depHfz3Ulw"
      },
      "outputs": [],
      "source": [
        "#test case - put your email address first\n",
        "sendmail_if('junaidgirkar@gmail.com','Junaid Girkar')"
      ]
    },
    {
      "cell_type": "markdown",
      "metadata": {
        "id": "07C9OYLZ3Ulx"
      },
      "source": [
        "Once it works, youre set.\n",
        "\n",
        "Juusst in case, physically check the companies and email too, human error possible.\n"
      ]
    },
    {
      "cell_type": "code",
      "execution_count": null,
      "metadata": {
        "colab": {
          "base_uri": "https://localhost:8080/"
        },
        "id": "YQwg3qR73Ulz",
        "outputId": "dedf4071-003c-4a54-f5d6-94571e23f25c",
        "scrolled": true
      },
      "outputs": [
        {
          "name": "stdout",
          "output_type": "stream",
          "text": [
            "Junaid Girkar -- junaidgirkar@gmail.com\n"
          ]
        }
      ],
      "source": [
        "for i in range(len(name)):\n",
        "    print('{} -- {}'.format(name[i],mail[i]))"
      ]
    },
    {
      "cell_type": "code",
      "execution_count": null,
      "metadata": {
        "colab": {
          "base_uri": "https://localhost:8080/"
        },
        "id": "N_fCOZmu3Ul0",
        "outputId": "218f2685-7f62-4157-a57c-de4df0cef3bc"
      },
      "outputs": [
        {
          "name": "stdout",
          "output_type": "stream",
          "text": [
            "Sending to Junaid Girkar -  junaidgirkar@gmail.com\n"
          ]
        }
      ],
      "source": [
        "#NOW, WERE READY TO GOOOOOOOOOOOOOOOOOOOOOOOOOOOOOOOOOOOOO\n",
        "#comment the next 2 lines, and re run the cell marked to re run (the comment:'youll understand later')\n",
        "for i in range(len(name)):\n",
        "    print(\"Sending to {} -  {}\".format(name[i],mail[i]))\n",
        "    sendmail_if(mail[i],name[i])"
      ]
    },
    {
      "cell_type": "code",
      "execution_count": null,
      "metadata": {
        "id": "w3bDJm-_3Ul1"
      },
      "outputs": [],
      "source": []
    }
  ],
  "metadata": {
    "colab": {
      "collapsed_sections": [],
      "provenance": []
    },
    "kernelspec": {
      "display_name": "Python 3",
      "language": "python",
      "name": "python3"
    },
    "language_info": {
      "codemirror_mode": {
        "name": "ipython",
        "version": 3
      },
      "file_extension": ".py",
      "mimetype": "text/x-python",
      "name": "python",
      "nbconvert_exporter": "python",
      "pygments_lexer": "ipython3",
      "version": "3.7.6"
    }
  },
  "nbformat": 4,
  "nbformat_minor": 0
}
