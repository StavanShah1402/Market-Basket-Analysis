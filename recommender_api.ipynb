{
  "nbformat": 4,
  "nbformat_minor": 0,
  "metadata": {
    "colab": {
      "provenance": []
    },
    "kernelspec": {
      "name": "python3",
      "display_name": "Python 3"
    },
    "language_info": {
      "name": "python"
    }
  },
  "cells": [
    {
      "cell_type": "code",
      "source": [
        "def add_label(text,label):\n",
        "  return text+\" \"+label\n",
        "\n",
        "options=[]\n",
        "categories={}"
      ],
      "metadata": {
        "id": "4_mn45BbRwoP"
      },
      "execution_count": 94,
      "outputs": []
    },
    {
      "cell_type": "code",
      "source": [
        "appetizers=[\"Baked Brie with Figs and Walnuts\",\n",
        "    \"Buffalo Chicken Meatballs\",\n",
        "    \"Caprese Skewers\",\n",
        "    \"Caramelized Onion and Goat Cheese Tartlets\",\n",
        "    \"Cheese and Charcuterie Board\",\n",
        "    \"Chicken Satay with Peanut Sauce\",\n",
        "    \"Chili-Lime Shrimp Skewers\",\n",
        "    \"Chorizo Stuffed Mushrooms\",\n",
        "    \"Classic Deviled Eggs\",\n",
        "    \"Crispy Fried Calamari\",\n",
        "    \"Crostini with Roasted Tomatoes and Ricotta\",\n",
        "    \"Cucumber Bites with Herb Cream Cheese and Cherry Tomatoes\",\n",
        "    \"Feta-Stuffed Mini Peppers\",\n",
        "    \"Fig and Prosciutto Crostini\",\n",
        "    \"Garlic Shrimp\",\n",
        "    \"Goat Cheese-Stuffed Dates\",\n",
        "    \"Grilled Zucchini Roll-Ups\",\n",
        "    \"Guacamole with Tortilla Chips\",\n",
        "    \"Hummus and Pita Chips\",\n",
        "    \"Jalapeño Poppers\",\n",
        "    \"Marinated Olives\",\n",
        "    \"Meatballs with Marinara Sauce\",\n",
        "    \"Mini BLT Bites\",\n",
        "    \"Mini Chicken Tacos\",\n",
        "    \"Mini Crab Cakes with Remoulade Sauce\",\n",
        "    \"Mini Margherita Pizzas\",\n",
        "    \"Mushroom and Gruyere Tartlets\",\n",
        "    \"Pigs in a Blanket\",\n",
        "    \"Prosciutto-Wrapped Melon\",\n",
        "    \"Roasted Red Pepper and Feta Dip\",\n",
        "    \"Sausage Stuffed Jalapeños\",\n",
        "    \"Shrimp Cocktail\",\n",
        "    \"Smoked Salmon and Cream Cheese Cucumber Bites\",\n",
        "    \"Spicy Garlic Shrimp\",\n",
        "    \"Spinach and Feta Spanakopita\",\n",
        "    \"Stuffed Mushrooms with Sausage and Cheese\",\n",
        "    \"Sweet and Spicy Bacon-Wrapped Shrimp\",\n",
        "    \"Thai Chicken Skewers with Peanut Sauce\",\n",
        "    \"Tomato Bruschetta\",\n",
        "    \"Vegetable Spring Rolls with Peanut Sauce\",\n",
        "    \"Warm Goat Cheese Dip with Garlic Bread\",\n",
        "    \"Wonton Wrapped Mozzarella Sticks\",\n",
        "    \"Baked Goat Cheese Dip\",\n",
        "    \"Baked Mac and Cheese Bites\",\n",
        "    \"Balsamic Glazed Chicken Wings\",\n",
        "    \"Black Bean and Corn Salsa\",\n",
        "    \"Brie and Bacon Tartlets\",\n",
        "    \"Bruschetta with Tomato and Basil\",\n",
        "    \"Buffalo Chicken Dip\",\n",
        "    \"Cajun Shrimp Skewers\",\n",
        "    \"Caprese Salad Skewers\",\n",
        "    \"Cheddar Jalapeno Poppers\",\n",
        "    \"Cheese-Stuffed Meatballs\",\n",
        "    \"Chicken Quesadilla Bites\",\n",
        "    \"Chicken Wings with Garlic Parmesan Sauce\",\n",
        "    \"Chili Cheese Fries\",\n",
        "    \"Chili-Lime Shrimp Cocktail\",\n",
        "    \"Coconut Shrimp\",\n",
        "    \"Crab and Artichoke Dip\",\n",
        "    \"Crispy Baked Onion Rings\",\n",
        "    \"Crispy Parmesan Asparagus Fries\",\n",
        "    \"Cucumber and Cream Cheese Bites\",\n",
        "    \"Eggplant Roll-Ups\",\n",
        "    \"Fried Cheese Curds\",\n",
        "    \"Fried Green Tomatoes\",\n",
        "    \"Garlic and Herb Stuffed Mushrooms\",\n",
        "    \"Garlic Parmesan Potato Wedges\",\n",
        "    \"Ginger Soy Edamame\",\n",
        "    \"Gouda and Bacon Stuffed Mushrooms\",\n",
        "    \"Greek Salad Skewers\",\n",
        "    \"Grilled Shrimp Skewers\",\n",
        "    \"Ham and Cheese Pinwheels\",\n",
        "    \"Jalapeno Bacon Poppers\",\n",
        "    \"Loaded Potato Skins\",\n",
        "    \"Mango and Avocado Salsa\",\n",
        "    \"Marinated Mozzarella Balls\"]\n",
        "print(len(appetizers))\n",
        "options.extend(appetizers)\n",
        "for i in range(len(appetizers)):\n",
        "  categories[appetizers[i]]=\"appetizers\"\n",
        "  appetizers[i]=add_label(appetizers[i],\"appetizers\")\n",
        "print(appetizers[0])"
      ],
      "metadata": {
        "colab": {
          "base_uri": "https://localhost:8080/"
        },
        "id": "reM4Pka93u2D",
        "outputId": "2e0e5377-9649-41d2-9c15-9f10b6c0ba4a"
      },
      "execution_count": 95,
      "outputs": [
        {
          "output_type": "stream",
          "name": "stdout",
          "text": [
            "76\n",
            "Baked Brie with Figs and Walnuts appetizers\n"
          ]
        }
      ]
    },
    {
      "cell_type": "code",
      "source": [
        "salads = ['Caesar Salad', 'Greek Salad', 'Caprese Salad', 'Cobb Salad', 'Waldorf Salad', 'Nicoise Salad', 'Panzanella Salad', 'Fattoush Salad', 'Tabbouleh Salad', 'Chef Salad', 'Spinach Salad', 'Arugula Salad', 'Kale Salad', 'Mixed Greens Salad', 'Romaine Salad', 'Iceberg Salad', 'Butterhead Salad', 'Endive Salad', 'Radicchio Salad', 'Watercress Salad', 'Frisée Salad', 'Mâche Salad', 'Tatsoi Salad', 'Mizuna Salad', 'Mustard Greens Salad', 'Collard Greens Salad', 'Swiss Chard Salad', 'Beet Greens Salad', 'Dandelion Greens Salad', 'Turnip Greens Salad', 'Carrot and Raisin Salad', 'Broccoli and Bacon Salad', 'Cucumber and Tomato Salad', 'Corn and Black Bean Salad', 'Pea and Cheese Salad', 'Potato and Egg Salad', 'Macaroni and Tuna Salad', 'Pasta and Vegetable Salad', 'Rice and Bean Salad', 'Quinoa and Chickpea Salad','Bulgur and Lentil salad','Bean salad','Roasted vegetable salad','Grilled chicken salad','Shrimp salad','Crab salad','Lobster salad','Taco salad','Sesame chicken salad','Asian noodle salad','Soba noodle salad','Udon noodle salad','Ramen noodle salad','Thai beef salad','Vietnamese chicken salad','Chinese chicken salad','Japanese seaweed salad','Korean glass noodle salad','Indian chickpea salad','Middle Eastern fattoush salad','Mediterranean orzo salad','Italian antipasto salad','French niçoise salad','Spanish potato salad','German cucumber salad','English pea salad','Irish colcannon salad','Scottish cullen skink salad','Welsh rarebit salad','Dutch herring salad','Belgian endive salad','Swiss cheese and ham salad','Austrian potato salad','Hungarian goulash salad','Polish beetroot salad','Russian Olivier salad','Swedish gravlax salad','Norwegian smoked salmon salad','Danish liver pâté salad','Finnish cabbage rolls salad']\n",
        "print(len(salads))\n",
        "options.extend(salads)\n",
        "for i in range(len(salads)):\n",
        "  categories[salads[i]]=\"salads\"\n",
        "  salads[i]=add_label(salads[i],\"salad\")"
      ],
      "metadata": {
        "colab": {
          "base_uri": "https://localhost:8080/"
        },
        "id": "c22WI13O8Xaq",
        "outputId": "9c163a1d-c12c-436d-b304-4c3b1f866be8"
      },
      "execution_count": 96,
      "outputs": [
        {
          "output_type": "stream",
          "name": "stdout",
          "text": [
            "80\n"
          ]
        }
      ]
    },
    {
      "cell_type": "code",
      "source": [
        "soups = ['Chicken Noodle Soup', 'Tomato Soup', 'Minestrone Soup', 'Clam Chowder', 'French Onion Soup', 'Vegetable Soup', 'Lentil Soup', 'Split Pea Soup', 'Black Bean Soup', 'Potato Soup', 'Mushroom Soup', 'Beef Barley Soup', 'Egg Drop Soup', 'Wonton Soup', 'Hot and Sour Soup', 'Miso Soup', 'Ramen Noodle Soup', 'Udon Noodle Soup', 'Pho Noodle Soup', 'Soba Noodle Soup', 'Chicken and Rice Soup', 'Chicken and Dumplings Soup', 'Gazpacho Soup', 'Borscht Soup', 'Vichyssoise Soup', 'Gumbo Soup', 'Jambalaya Soup', 'Taco Soup', 'Chili Con Carne Soup','Italian Wedding soup','Albondigas soup','Avgolemono soup','Bouillabaisse soup','Caldo verde soup','Cheddar broccoli soup','Cioppino soup','Corn chowder soup','Cream of mushroom soup','Fasolada soup','Fish chowder soup','Goulash soup','Harira soup','Kharcho soup','Leek and potato soup','Lobster bisque soup','Manhattan clam chowder soup','Matzo ball soup','Mulligatawny soup','New England clam chowder soup','Okroshka soup','Pasta e fagioli soup','Pozole soup','Pumpkin soup','Scotch broth soup','She-crab soup','Solyanka soup','Sopa de lima soup','Stracciatella soup','Tom kha kai soup','Tom yum soup','Tortilla soup','Zuppa toscana soup']\n",
        "print(len(soups))\n",
        "options.extend(soups)\n",
        "for i in range(len(soups)):\n",
        "  categories[soups[i]]=\"soups\"\n",
        "  soups[i]=add_label(soups[i],\"salad\")"
      ],
      "metadata": {
        "colab": {
          "base_uri": "https://localhost:8080/"
        },
        "id": "cjDInJ9F9nrC",
        "outputId": "add1f9a9-ebdd-4750-cebe-d20c1407a0d3"
      },
      "execution_count": 97,
      "outputs": [
        {
          "output_type": "stream",
          "name": "stdout",
          "text": [
            "62\n"
          ]
        }
      ]
    },
    {
      "cell_type": "code",
      "source": [
        "entrees = ['Chicken Parmesan', 'Beef Stroganoff', 'Spaghetti and Meatballs', 'Lasagna', 'Fettuccine Alfredo', 'Chicken Alfredo', 'Shrimp Scampi', 'Beef and Broccoli Stir Fry', 'Kung Pao Chicken', 'General Tso’s Chicken', 'Sweet and Sour Pork', 'Moo Shu Pork', 'Pad Thai', 'Green Curry Chicken', 'Red Curry Beef', 'Yellow Curry Shrimp', 'Bibimbap', 'Bulgogi', 'Kalbi', 'Japchae', 'Sushi Rolls', 'Sashimi', 'Teriyaki Chicken', 'Teriyaki Salmon', 'Yakisoba Noodles', 'Udon Noodle Stir Fry', 'Ramen Noodle Bowl','Taco','Burrito','Enchilada','Quesadilla','Fajita','Tostada','Chimichanga','Tamale','Empanada','Arepa','Pupusa','Ceviche','Lomo saltado','Arroz con pollo','Pernil','Ropa vieja','Feijoada','Pabellon criollo','Asado negro','Cachapa','Horchata','Tamales','Pozole','Menudo','Chiles rellenos','Elote','Tlacoyo','Gordita','Sope']\n",
        "op=['Baked Ziti', 'Eggplant Parmesan', 'Stuffed Shells', 'Manicotti', 'Osso Buco', 'Veal Marsala', 'Veal Piccata', 'Chicken Cacciatore', 'Chicken Piccata', 'Chicken Marsala', 'Pork Milanese', 'Pork Saltimbocca', 'Beef Bourguignon', 'Coq au Vin', 'Ratatouille', 'Cassoulet', 'Chateaubriand', 'Beef Wellington', 'Roast Beef and Yorkshire Pudding', 'Shepherd’s Pie', 'Bangers and Mash', 'Toad in the Hole','Fish and Chips','Steak and Kidney Pie','Ploughman’s Lunch','Bubble and Squeak','Roast Pork with Crackling','Lancashire Hotpot','Scotch Broth','Cullen Skink','Cock-a-Leekie Soup','Haggis, Neeps and Tatties','Irish Stew','Dublin Coddle','Corned Beef and Cabbage','Bangers and Colcannon','Boxty','Ulster Fry','Welsh Rarebit','Laverbread','Glamorgan Sausage','Cawl']\n",
        "for i in op:\n",
        "  entrees.append(i)   \n",
        "print(len(entrees))\n",
        "options.extend(entrees)\n",
        "for i in range(len(entrees)):\n",
        "  categories[entrees[i]]=\"entrees\"\n",
        "  entrees[i]=add_label(entrees[i],\"entrees\")"
      ],
      "metadata": {
        "colab": {
          "base_uri": "https://localhost:8080/"
        },
        "id": "ItekayqzGpZL",
        "outputId": "d2a27858-f0b4-4226-9533-550fde1c9c61"
      },
      "execution_count": 98,
      "outputs": [
        {
          "output_type": "stream",
          "name": "stdout",
          "text": [
            "98\n"
          ]
        }
      ]
    },
    {
      "cell_type": "code",
      "source": [
        "sandwiches = ['BLT Sandwich', 'Club Sandwich', 'Grilled Cheese Sandwich', 'Peanut Butter and Jelly Sandwich', 'Reuben Sandwich', 'Monte Cristo Sandwich', 'French Dip Sandwich', 'Philly Cheesesteak Sandwich', 'Cuban Sandwich', 'Pulled Pork Sandwich', 'Sloppy Joe Sandwich', 'Meatball Sub Sandwich', 'Tuna Salad Sandwich', 'Egg Salad Sandwich', 'Chicken Salad Sandwich', 'Turkey and Cheese Sandwich', 'Ham and Cheese Sandwich', 'Roast Beef and Cheese Sandwich','Bacon, Egg and Cheese sandwich','Sausage, Egg and Cheese sandwich','Croque-monsieur sandwich','Croque-madame sandwich','Lobster roll sandwich','Crab cake sandwich','Fried chicken sandwich','Buffalo chicken sandwich','Chicken parmesan sandwich','Meatloaf sandwich','Patty melt sandwich','Hamburger','Cheeseburger','Bacon cheeseburger','Veggie burger','Black bean burger','Portobello mushroom burger','Falafel sandwich','Gyro sandwich','Shawarma sandwich','Doner kebab sandwich','Banh mi sandwich']\n",
        "more_sandwiches = ['Muffuletta Sandwich', 'Po’ Boy Sandwich', 'Italian Beef Sandwich', 'Italian Sub Sandwich', 'Caprese Sandwich', 'Panini Sandwich', 'Wrap Sandwich', 'Pita Sandwich', 'Bagel Sandwich', 'Open-Faced Sandwich', 'Smoked Salmon and Cream Cheese Sandwich', 'Avocado Toast Sandwich', 'Veggie and Hummus Sandwich', 'Grilled Vegetable Sandwich', 'Grilled Portobello Mushroom Sandwich','Fried green tomato sandwich','Fried egg sandwich','Egg and cheese sandwich','Bacon and egg sandwich','Sausage and egg sandwich','Ham and egg sandwich','Steak and egg sandwich','Western omelette sandwich','Denver omelette sandwich','Bagel and lox sandwich','Peanut butter and banana sandwich','Fluffernutter sandwich','Nutella and banana sandwich','Grilled peanut butter and jelly sandwich','Monte Cristo sandwich']\n",
        "for i in more_sandwiches:\n",
        "  sandwiches.append(i)\n",
        "\n",
        "print(len(sandwiches))\n",
        "options.extend(sandwiches)\n",
        "for i in range(len(sandwiches)):\n",
        "  categories[sandwiches[i]]=\"sandwiches\"\n",
        "  sandwiches[i]=add_label(sandwiches[i],\"sandwiches\")"
      ],
      "metadata": {
        "colab": {
          "base_uri": "https://localhost:8080/"
        },
        "id": "-8U3hhelKCJb",
        "outputId": "ee68e184-aeac-424f-8e62-0f863b264a9f"
      },
      "execution_count": 99,
      "outputs": [
        {
          "output_type": "stream",
          "name": "stdout",
          "text": [
            "70\n"
          ]
        }
      ]
    },
    {
      "cell_type": "code",
      "source": [
        "burgers = ['Hamburger', 'Cheeseburger', 'Bacon Cheeseburger', 'Double Cheeseburger', 'Triple Cheeseburger', 'Mushroom Swiss Burger', 'BBQ Bacon Burger', 'Jalapeno Burger', 'Chili Cheeseburger', 'Patty Melt', 'Veggie Burger', 'Black Bean Burger', 'Turkey Burger', 'Chicken Burger', 'Salmon Burger', 'Tuna Burger', 'Crab Cake Burger', 'Lobster Roll Burger','Portobello mushroom burger','Falafel burger','Gyro burger','Shawarma burger','Doner kebab burger','Banh mi burger','Bison burger','Elk burger','Venison burger','Kangaroo burger','Ostrich burger','Emu burger','Alligator burger','Crocodile burger','Wild boar burger','Rabbit burger','Duck burger','Goose burger','Pheasant burger','Quail burger','Squab burger']\n",
        "more_burgers = ['Hawaiian Burger', 'Teriyaki Burger', 'California Burger', 'Southwest Burger', 'Tex-Mex Burger', 'Cajun Burger', 'Carolina Burger', 'Philly Cheesesteak Burger', 'New York Reuben Burger', 'Chicago Italian Beef Burger', 'Cuban Sandwich Burger', 'Pulled Pork BBQ Burger', 'Sloppy Joe Burger', 'Meatball Sub Burger','Fried green tomato burger','Fried egg burger','Egg and cheese burger','Bacon and egg burger','Sausage and egg burger','Ham and egg burger','Steak and egg burger','Western omelette burger','Denver omelette burger','Bagel and lox burger','Peanut butter and banana burger','Fluffernutter burger','Nutella and banana burger','Grilled peanut butter and jelly burger','Monte Cristo burger']\n",
        "for i in more_burgers:\n",
        "  burgers.append(i)\n",
        "len(burgers)\n",
        "options.extend(burgers)\n",
        "for i in range(len(burgers)):\n",
        "  categories[burgers[i]]=\"burgers\"\n",
        "  sandwiches[i]=add_label(sandwiches[i],\"sandwiches\")"
      ],
      "metadata": {
        "id": "y54q3lA2KkMs"
      },
      "execution_count": 100,
      "outputs": []
    },
    {
      "cell_type": "code",
      "source": [
        "pizzas = ['Margherita Pizza', 'Pepperoni Pizza', 'Sausage Pizza', 'Mushroom Pizza', 'Onion Pizza', 'Green Pepper Pizza', 'Black Olive Pizza', 'Pineapple Pizza', 'Ham Pizza', 'Bacon Pizza', 'Hawaiian Pizza', 'Meat Lovers Pizza', 'Veggie Lovers Pizza', 'Supreme Pizza', 'BBQ Chicken Pizza', 'Buffalo Chicken Pizza', 'Chicken Alfredo Pizza','White pizza','Pesto pizza','Artichoke pizza','Spinach and feta pizza','Tomato and basil pizza','Four cheese pizza','Stuffed crust pizza','Calzone','Stromboli','Sicilian pizza','Neapolitan pizza','Chicago deep dish pizza','Detroit style pizza','New York style pizza','New Haven style pizza','St. Louis style pizza','Greek style pizza','California style pizza']\n",
        "more_pizzas = ['Taco Pizza', 'Cheeseburger Pizza', 'Philly Cheesesteak Pizza', 'Reuben Pizza', 'BLT Pizza', 'Chicken Bacon Ranch Pizza', 'Mac and Cheese Pizza', 'Spaghetti and Meatball Pizza', 'Lasagna Pizza', 'Eggplant Parmesan Pizza','Fried green tomato pizza','Fried egg pizza','Egg and cheese pizza','Bacon and egg pizza','Sausage and egg pizza','Ham and egg pizza','Steak and egg pizza','Western omelette pizza','Denver omelette pizza','Bagel and lox pizza','Peanut butter and banana pizza','Fluffernutter pizza','Nutella and banana pizza','Grilled peanut butter and jelly pizza','Monte Cristo pizza']\n",
        "for i in more_pizzas:\n",
        "  pizzas.append(i)\n",
        "len(pizzas)\n",
        "options.extend(pizzas)\n",
        "for i in range(len(pizzas)):\n",
        "  categories[pizzas[i]]=\"pizzas\"\n",
        "  pizzas[i]=add_label(pizzas[i],\"pizzas\")"
      ],
      "metadata": {
        "id": "i6N2moH8LKRa"
      },
      "execution_count": 101,
      "outputs": []
    },
    {
      "cell_type": "code",
      "source": [
        "seafood = ['Grilled Salmon', 'Baked Cod', 'Pan-Seared Scallops', 'Shrimp Scampi', 'Lobster Bisque', 'Crab Cakes', 'Fish and Chips', 'Fried Calamari', 'Clam Chowder', 'Oysters Rockefeller', 'Mussels in White Wine Sauce', 'Seafood Paella', 'Seafood Gumbo', 'Seafood Jambalaya', 'Seafood Boil','Shrimp and grits','Shrimp po’ boy','Crab boil','Lobster roll','Crab rangoon','Crab dip','Crab legs','Crab salad','Crab soup','Crab stuffed mushrooms','Fried shrimp','Coconut shrimp','Shrimp cocktail','Shrimp alfredo','Shrimp fried rice','Shrimp stir fry','Shrimp curry','Shrimp etouffee','Shrimp creole','Crawfish boil','Crawfish etouffee']\n",
        "more_seafood = ['Fried Catfish', 'Blackened Tilapia', 'Grilled Swordfish', 'Baked Halibut', 'Pan-Seared Trout', 'Fish Tacos', 'Shrimp Tacos', 'Lobster Mac and Cheese', 'Crab Mac and Cheese', 'Seafood Alfredo','Fried clams','Clams casino','Stuffed clams','Clam dip','Clam fritters','Clam strips','Steamed clams','Baked clams','Raw clams','Grilled clams']\n",
        "\n",
        "for i in more_seafood:\n",
        "  seafood.append(i)\n",
        "len(seafood)\n",
        "options.extend(seafood)\n",
        "for i in range(len(seafood)):\n",
        "  categories[seafood[i]]=\"seafood\"\n",
        "  seafood[i]=add_label(seafood[i],\"seafood\")"
      ],
      "metadata": {
        "id": "BO5O60ajL9qZ"
      },
      "execution_count": 102,
      "outputs": []
    },
    {
      "cell_type": "code",
      "source": [
        "pastas = ['Spaghetti and Meatballs', 'Fettuccine Alfredo', 'Lasagna', 'Penne alla Vodka', 'Pesto Pasta', 'Carbonara', 'Bolognese', 'Marinara', 'Arrabbiata', 'Puttanesca', 'Primavera', 'Cacio e Pepe', 'Amatriciana', 'Aglio e Olio','Macaroni and cheese','Baked ziti','Stuffed shells','Manicotti','Ravioli','Tortellini','Gnocchi','Linguine with clam sauce','Penne with vodka sauce','Spaghetti carbonara','Fettuccine alfredo','Lasagna bolognese','Pesto pasta with chicken','Pasta primavera','Spaghetti with meat sauce']\n",
        "more_pastas = ['Pasta e Fagioli', 'Minestrone', 'Tortellini in Brodo', 'Stracciatella', 'Pasta al Pomodoro', 'Pasta alla Norma', 'Pasta alla Gricia', 'Pasta con le Sarde','Spaghetti with garlic and oil','Spaghetti with marinara sauce','Spaghetti with meatballs','Spaghetti with sausage','Spaghetti with clam sauce','Spaghetti with mussels','Spaghetti with shrimp','Linguine with clam sauce','Linguine with marinara sauce','Linguine with meatballs','Linguine with sausage','Linguine with clam sauce']\n",
        "for i in more_pastas:\n",
        "  pastas.append(i)\n",
        "len(pastas)\n",
        "options.extend(pastas)\n",
        "for i in range(len(pastas)):\n",
        "  categories[pastas[i]]=\"pastas\"\n",
        "  pastas[i]=add_label(pastas[i],\"pastas\")"
      ],
      "metadata": {
        "id": "UAEMJsEnNHNh"
      },
      "execution_count": 103,
      "outputs": []
    },
    {
      "cell_type": "code",
      "source": [
        "desserts = ['Chocolate Cake', 'Vanilla Cake', 'Carrot Cake', 'Red Velvet Cake', 'Cheesecake', 'Apple Pie', 'Pecan Pie', 'Pumpkin Pie', 'Cherry Pie', 'Blueberry Pie', 'Lemon Meringue Pie', 'Key Lime Pie', 'Banana Cream Pie', 'Coconut Cream Pie', 'Chocolate Cream Pie','Tiramisu','Cannoli','Panna cotta','Gelato','Sorbetto','Biscotti','Zabaglione','Ricotta pie','Cassata','Sfogliatelle','Zeppole','Struffoli','Panettone','Pandoro','Panforte']\n",
        "more_desserts = ['Chocolate Chip Cookies', 'Oatmeal Raisin Cookies', 'Peanut Butter Cookies', 'Sugar Cookies', 'Snickerdoodles', 'Gingerbread Cookies', 'Shortbread Cookies', 'Macarons', 'Madeleines', 'Eclairs','Profiteroles','Creme brulee','Creme caramel','Pot de creme','Mousse au chocolat','Tarte tatin','Clafoutis','Croquembouche','Opera cake','Religieuse']\n",
        "for i in (more_desserts):\n",
        "  desserts.append(i)\n",
        "len(desserts)\n",
        "options.extend(desserts)\n",
        "for i in range(len(desserts)):\n",
        "  categories[desserts[i]]=\"desserts\"\n",
        "  desserts[i]=add_label(desserts[i],\"desserts\")"
      ],
      "metadata": {
        "id": "7uKKsqbdOXU5"
      },
      "execution_count": 104,
      "outputs": []
    },
    {
      "cell_type": "code",
      "source": [
        "all_foods=[]\n",
        "for i in appetizers:\n",
        "  all_foods.append(i)\n",
        "for i in salads:\n",
        "  all_foods.append(i)\n",
        "for i in soups:\n",
        "  all_foods.append(i)\n",
        "for i in entrees:\n",
        "  all_foods.append(i)\n",
        "for i in sandwiches:\n",
        "  all_foods.append(i)\n",
        "for i in burgers:\n",
        "  all_foods.append(i)\n",
        "for i in pizzas:\n",
        "  all_foods.append(i)\n",
        "for i in seafood:\n",
        "  all_foods.append(i)\n",
        "for i in pastas:\n",
        "  all_foods.append(i)\n",
        "for i in desserts:\n",
        "  all_foods.append(i)\n",
        "\n",
        "print(len(all_foods))"
      ],
      "metadata": {
        "colab": {
          "base_uri": "https://localhost:8080/"
        },
        "id": "5hhq5TsAU1Hg",
        "outputId": "e0184f7f-e143-4d11-bf32-3fb6d2b7e274"
      },
      "execution_count": 105,
      "outputs": [
        {
          "output_type": "stream",
          "name": "stdout",
          "text": [
            "669\n"
          ]
        }
      ]
    },
    {
      "cell_type": "code",
      "source": [
        "import ast\n",
        "\n",
        "\n",
        "def convert(text):\n",
        "    tt=text.split()\n",
        "    temp=\" \".join(tt)\n",
        "    return temp\n",
        "\n",
        "for i in range(len(all_foods)):\n",
        "  all_foods[i]=convert(all_foods[i])\n",
        "\n",
        "print(all_foods[2])\n",
        "print(options[2])"
      ],
      "metadata": {
        "colab": {
          "base_uri": "https://localhost:8080/"
        },
        "id": "xhoQQvFKWnHY",
        "outputId": "232b0412-d3a8-48ba-823d-014235e0ed8e"
      },
      "execution_count": 106,
      "outputs": [
        {
          "output_type": "stream",
          "name": "stdout",
          "text": [
            "Caprese Skewers appetizers\n",
            "Caprese Skewers\n"
          ]
        }
      ]
    },
    {
      "cell_type": "code",
      "source": [
        "for i in range(len(all_foods)):\n",
        "  all_foods[i]=all_foods[i].lower()\n",
        "\n",
        "all_foods[2]\n"
      ],
      "metadata": {
        "colab": {
          "base_uri": "https://localhost:8080/",
          "height": 36
        },
        "id": "_8nEKSiMhyFk",
        "outputId": "880d5f9c-000d-411f-dabb-2b6ae0fb9ce8"
      },
      "execution_count": 107,
      "outputs": [
        {
          "output_type": "execute_result",
          "data": {
            "text/plain": [
              "'caprese skewers appetizers'"
            ],
            "application/vnd.google.colaboratory.intrinsic+json": {
              "type": "string"
            }
          },
          "metadata": {},
          "execution_count": 107
        }
      ]
    },
    {
      "cell_type": "markdown",
      "source": [
        "#Converting to vectors\n"
      ],
      "metadata": {
        "id": "MXfSuKOGlYaG"
      }
    },
    {
      "cell_type": "code",
      "source": [
        "from sklearn.feature_extraction.text import CountVectorizer\n",
        "cv=CountVectorizer(max_features=5000,stop_words='english')"
      ],
      "metadata": {
        "id": "OHt76FXBlXby"
      },
      "execution_count": 108,
      "outputs": []
    },
    {
      "cell_type": "code",
      "source": [
        "vectors=cv.fit_transform(all_foods).toarray()"
      ],
      "metadata": {
        "id": "_UCBdKPCldzM"
      },
      "execution_count": 109,
      "outputs": []
    },
    {
      "cell_type": "code",
      "source": [
        "cv.get_feature_names_out()"
      ],
      "metadata": {
        "id": "zdTkcDeNlkNe"
      },
      "execution_count": null,
      "outputs": []
    },
    {
      "cell_type": "code",
      "source": [
        "from sklearn.metrics.pairwise import cosine_similarity\n",
        "similarity=cosine_similarity(vectors)\n"
      ],
      "metadata": {
        "id": "V-CTHvR1lmxO"
      },
      "execution_count": 111,
      "outputs": []
    },
    {
      "cell_type": "code",
      "source": [
        "def reccommend(food):\n",
        "    food_index=options.index(food)\n",
        "    category=categories[food]\n",
        "    food=food+category\n",
        "    temp=food.split()\n",
        "    for i in range(len(temp)):\n",
        "      temp[i]=temp[i].lower()\n",
        "    food=\"\".join(temp)\n",
        "    food=food.lower()\n",
        "    distances=similarity[food_index]\n",
        "    foods_list=sorted(list(enumerate(distances)),reverse=True,key=lambda x:x[1])[1:11]\n",
        "    \n",
        "    for i in foods_list:\n",
        "      print(options[i[0]])\n",
        "\n",
        "\n",
        "\n",
        "    "
      ],
      "metadata": {
        "id": "SloRgT7xltKO"
      },
      "execution_count": 119,
      "outputs": []
    },
    {
      "cell_type": "code",
      "source": [
        "reccommend(\"Stuffed Shells\")"
      ],
      "metadata": {
        "colab": {
          "base_uri": "https://localhost:8080/"
        },
        "id": "30p3_z19nPMO",
        "outputId": "5dadc633-4745-4c04-dccc-5e077da90aa4"
      },
      "execution_count": 123,
      "outputs": [
        {
          "output_type": "stream",
          "name": "stdout",
          "text": [
            "Stuffed shells\n",
            "Lasagna\n",
            "Bibimbap\n",
            "Bulgogi\n",
            "Kalbi\n",
            "Japchae\n",
            "Sashimi\n",
            "Taco\n",
            "Burrito\n",
            "Enchilada\n"
          ]
        }
      ]
    },
    {
      "cell_type": "code",
      "source": [
        "# options,categories,similarity"
      ],
      "metadata": {
        "id": "F2gUa08NsBwy"
      },
      "execution_count": 124,
      "outputs": []
    },
    {
      "cell_type": "code",
      "source": [
        "import pickle"
      ],
      "metadata": {
        "id": "Ba_5pwAfsVBb"
      },
      "execution_count": 125,
      "outputs": []
    },
    {
      "cell_type": "code",
      "source": [
        "pickle.dump(similarity,open('similarity.pkl','wb'))"
      ],
      "metadata": {
        "id": "cRVMqxqWsRKt"
      },
      "execution_count": 126,
      "outputs": []
    },
    {
      "cell_type": "code",
      "source": [
        "pickle.dump(options,open('options.pkl','wb'))"
      ],
      "metadata": {
        "id": "G2tl4PM3sZOJ"
      },
      "execution_count": 127,
      "outputs": []
    },
    {
      "cell_type": "code",
      "source": [
        "pickle.dump(categories,open('categories.pkl','wb'))"
      ],
      "metadata": {
        "id": "Bs42NLtvwHhn"
      },
      "execution_count": 128,
      "outputs": []
    },
    {
      "cell_type": "code",
      "source": [],
      "metadata": {
        "id": "Neo4FFUywu0n"
      },
      "execution_count": null,
      "outputs": []
    }
  ]
}