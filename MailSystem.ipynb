{
  "nbformat": 4,
  "nbformat_minor": 0,
  "metadata": {
    "colab": {
      "provenance": []
    },
    "kernelspec": {
      "name": "python3",
      "display_name": "Python 3"
    },
    "language_info": {
      "name": "python"
    }
  },
  "cells": [
    {
      "cell_type": "code",
      "execution_count": 1,
      "metadata": {
        "id": "doYM_SLJQ_0E"
      },
      "outputs": [],
      "source": [
        "import numpy as np\n",
        "import pandas as pd\n",
        "from email.mime.multipart import MIMEMultipart\n",
        "from email.mime.text import MIMEText\n",
        "from email.mime.image import MIMEImage\n",
        "from email.mime.base import MIMEBase\n",
        "from email import encoders\n",
        "import smtplib"
      ]
    },
    {
      "cell_type": "code",
      "source": [
        "def sendmail(receiver,c_name):\n",
        "    msg = MIMEMultipart()\n",
        "    msg['From'] = \"vartakdyuti@gmail.com\" \n",
        "    password= \"bemk xums wakw hwbw\"\n",
        "    msg['To']= receiver\n",
        "    msg['Subject'] = 'Discount Coupon'\n",
        "\n",
        "    msg.attach(MIMEText(f\"\"\"\n",
        "    <p>We hope this message finds you well! As a token of appreciation for your continued support.\n",
        "    We would like to offer you a free coupon that you can redeem on your next purchase with us.\n",
        "    \n",
        "    <br><br>This coupon will give you a discount of 20% off your total purchase. \n",
        "    Simply enter the coupon code CUST20 at checkout to apply the discount. \n",
        "    \n",
        "    <br/><br/>We value your loyalty and look forward to continuing to serve you. \n",
        "    Thank you for choosing us as your preferred snack provider.\n",
        "\n",
        "    <br><br>Thanking you in anticipation,\n",
        "    <br>Best Regards,\n",
        "    <br>Data Hackers</p>\"\"\", 'html'))\n",
        "    \n",
        "    # open the file to be sent  \n",
        "    filename = \"Coupon.pdf\"\n",
        "    attachment = open(\"./\" + filename, \"rb\") \n",
        "\n",
        "    # instance of MIMEBase and named as p \n",
        "    p = MIMEBase('application', 'octet-stream') \n",
        "\n",
        "    # To change the payload into encoded form \n",
        "    p.set_payload((attachment).read()) \n",
        "\n",
        "    # encode into base64 \n",
        "    encoders.encode_base64(p) \n",
        "\n",
        "    p.add_header('Content-Disposition', \"attachment; filename= %s\" % filename) \n",
        "\n",
        "    # attach the instance 'p' to instance 'msg' \n",
        "    msg.attach(p) \n",
        "\n",
        "    s = smtplib.SMTP('smtp.gmail.com', 587)\n",
        "    s.starttls()\n",
        "    s.login(msg['From'],password)\n",
        "    s.sendmail(msg['From'],msg['To'],msg.as_string())\n",
        "    s.quit()"
      ],
      "metadata": {
        "id": "nLd7gRV1RCug"
      },
      "execution_count": 4,
      "outputs": []
    },
    {
      "cell_type": "code",
      "source": [
        "sendmail('sample1email456@gmail.com','pushkar')"
      ],
      "metadata": {
        "id": "hkUp1-DjRGKi"
      },
      "execution_count": 5,
      "outputs": []
    }
  ]
}